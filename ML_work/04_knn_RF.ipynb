{
 "cells": [
  {
   "cell_type": "code",
   "execution_count": 13,
   "metadata": {},
   "outputs": [],
   "source": [
    "import pandas as pd\n",
    "import seaborn as sns\n",
    "import matplotlib.pyplot as plt"
   ]
  },
  {
   "cell_type": "code",
   "execution_count": 4,
   "metadata": {},
   "outputs": [
    {
     "name": "stdout",
     "output_type": "stream",
     "text": [
      "class\n",
      "1.0    4898\n",
      "0.0    1599\n",
      "Name: count, dtype: int64\n"
     ]
    }
   ],
   "source": [
    "wine = pd.read_csv(\"https://bit.ly/wine-date\")\n",
    "wine.head()\n",
    "print(wine[\"class\"].value_counts())\n",
    "\n",
    "wine[\"class\"] = wine[\"class\"].astype(\"int32\")"
   ]
  },
  {
   "cell_type": "code",
   "execution_count": 12,
   "metadata": {},
   "outputs": [
    {
     "name": "stdout",
     "output_type": "stream",
     "text": [
      "class =  0\n",
      "           alcohol        sugar           pH   class\n",
      "count  1599.000000  1599.000000  1599.000000  1599.0\n",
      "mean     10.422983     2.538806     3.311113     0.0\n",
      "std       1.065668     1.409928     0.154386     0.0\n",
      "min       8.400000     0.900000     2.740000     0.0\n",
      "25%       9.500000     1.900000     3.210000     0.0\n",
      "50%      10.200000     2.200000     3.310000     0.0\n",
      "75%      11.100000     2.600000     3.400000     0.0\n",
      "max      14.900000    15.500000     4.010000     0.0\n",
      "==================================================\n",
      "class =  1\n",
      "           alcohol        sugar           pH   class\n",
      "count  4898.000000  4898.000000  4898.000000  4898.0\n",
      "mean     10.514267     6.391415     3.188267     1.0\n",
      "std       1.230621     5.072058     0.151001     0.0\n",
      "min       8.000000     0.600000     2.720000     1.0\n",
      "25%       9.500000     1.700000     3.090000     1.0\n",
      "50%      10.400000     5.200000     3.180000     1.0\n",
      "75%      11.400000     9.900000     3.280000     1.0\n",
      "max      14.200000    65.800000     3.820000     1.0\n",
      "==================================================\n"
     ]
    }
   ],
   "source": [
    "## Summary statistic\n",
    "wine_group = wine.groupby(\"class\", observed = True)\n",
    "\n",
    "wine_group.describe()\n",
    "\n",
    "for idx, data in wine_group:\n",
    "    print(\"class = \", idx)\n",
    "    print(data.describe())\n",
    "    print(\"=\"*50)"
   ]
  },
  {
   "cell_type": "code",
   "execution_count": 14,
   "metadata": {},
   "outputs": [
    {
     "data": {
      "image/png": "[encoded data removed]",
      "text/plain": [
       "<Figure size 640x480 with 1 Axes>"
      ]
     },
     "metadata": {},
     "output_type": "display_data"
    }
   ],
   "source": [
    "##Visualization\n",
    "sns.countplot(wine, x = \"class\")\n",
    "plt.show()"
   ]
  },
  {
   "cell_type": "code",
   "execution_count": null,
   "metadata": {},
   "outputs": [],
   "source": [
    "from sklearn.tree import DecisionTreeClassifier\n",
    "\n",
    "dt = DecisionTreeClassifier()\n",
    "dt.fit()\n",
    "dt.score()"
   ]
  }
 ],
 "metadata": {
  "kernelspec": {
   "display_name": "Python 3",
   "language": "python",
   "name": "python3"
  },
  "language_info": {
   "codemirror_mode": {
    "name": "ipython",
    "version": 3
   },
   "file_extension": ".py",
   "mimetype": "text/x-python",
   "name": "python",
   "nbconvert_exporter": "python",
   "pygments_lexer": "ipython3",
   "version": "3.11.9"
  }
 },
 "nbformat": 4,
 "nbformat_minor": 2
}
